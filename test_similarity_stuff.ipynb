{
 "cells": [
  {
   "cell_type": "code",
   "execution_count": 1,
   "id": "e0434360",
   "metadata": {},
   "outputs": [
    {
     "name": "stderr",
     "output_type": "stream",
     "text": [
      "c:\\Users\\argov\\miniconda3\\envs\\meshuggah\\Lib\\site-packages\\requests\\__init__.py:86: RequestsDependencyWarning: Unable to find acceptable character detection dependency (chardet or charset_normalizer).\n",
      "  warnings.warn(\n",
      "c:\\Users\\argov\\miniconda3\\envs\\meshuggah\\Lib\\site-packages\\tqdm\\auto.py:21: TqdmWarning: IProgress not found. Please update jupyter and ipywidgets. See https://ipywidgets.readthedocs.io/en/stable/user_install.html\n",
      "  from .autonotebook import tqdm as notebook_tqdm\n"
     ]
    }
   ],
   "source": [
    "from main import get_last_data_path\n",
    "import pickle\n",
    "from consts import GEMMA_2\n",
    "\n",
    "data_dir = \"data\"\n",
    "\n",
    "data_path = get_last_data_path(data_dir)\n",
    "with open(data_path, \"rb\") as f:\n",
    "    data = pickle.load(f)"
   ]
  },
  {
   "cell_type": "code",
   "execution_count": 2,
   "id": "70b720f4",
   "metadata": {},
   "outputs": [
    {
     "name": "stdout",
     "output_type": "stream",
     "text": [
      "dict_keys(['1161', '1200', '137', '3949', '4086', '4287', '5548', '6832', '695', '709', '7988', '8015'])\n"
     ]
    }
   ],
   "source": [
    "gemma_2_data = data[GEMMA_2]\n",
    "position = -1\n",
    "\n",
    "print(gemma_2_data.keys())"
   ]
  },
  {
   "cell_type": "code",
   "execution_count": 10,
   "id": "f985beda",
   "metadata": {},
   "outputs": [],
   "source": [
    "import numpy as np\n",
    "import re\n",
    "\n",
    "all_steering_vectors = []\n",
    "all_mlp_vectors, all_attn_vectors, all_resid_vectors = [], [], []\n",
    "for steering_vector, per_vector_data in gemma_2_data.items():\n",
    "    vec = per_vector_data['meta']['direction']\n",
    "    all_steering_vectors.append(vec.float())\n",
    "    \n",
    "    data_at_position = per_vector_data['all']\n",
    "    negative_outputs_train, positive_outputs_train, negative_outputs_test, positive_outputs_test = data_at_position\n",
    "    negative_dots_train, negative_norms_train, negative_agg_train = negative_outputs_train\n",
    "    positive_dots_train, positive_norms_train, positive_agg_train = positive_outputs_train\n",
    "    mlp_vector, attn_vector, resid_vector = np.zeros(vec.shape), np.zeros(vec.shape), np.zeros(vec.shape)\n",
    "    for component_name in negative_agg_train.keys():\n",
    "        re_pattern = 'blocks\\.(\\d+)\\.*'\n",
    "        layer_num = re.search(re_pattern, component_name).group(1)\n",
    "        layer_num = int(layer_num)\n",
    "        if layer_num < 15:\n",
    "            continue\n",
    "        diff_means = positive_agg_train[component_name] - negative_agg_train[component_name]\n",
    "        diff_means = diff_means.float().numpy()\n",
    "        if 'ln2' in component_name:\n",
    "            mlp_vector += diff_means\n",
    "        elif 'ln1' in component_name:\n",
    "            attn_vector += diff_means\n",
    "        else:\n",
    "            resid_vector += diff_means\n",
    "    all_mlp_vectors.append(mlp_vector)\n",
    "    all_attn_vectors.append(attn_vector)\n",
    "    all_resid_vectors.append(resid_vector)\n",
    "\n",
    "all_steering_vectors = np.array(all_steering_vectors) / np.linalg.norm(all_steering_vectors, axis=1, keepdims=True)\n",
    "all_mlp_vectors = np.array(all_mlp_vectors) / np.linalg.norm(all_mlp_vectors, axis=1, keepdims=True)\n",
    "all_attn_vectors = np.array(all_attn_vectors) / np.linalg.norm(all_attn_vectors, axis=1, keepdims=True)\n",
    "all_resid_vectors = np.array(all_resid_vectors) / np.linalg.norm(all_resid_vectors, axis=1, keepdims=True)\n"
   ]
  },
  {
   "cell_type": "code",
   "execution_count": 11,
   "id": "55a88fda",
   "metadata": {},
   "outputs": [],
   "source": [
    "dot_products_mlp = np.einsum('ij,ij->i', all_mlp_vectors, all_steering_vectors)\n",
    "dot_products_attn = np.einsum('ij,ij->i', all_attn_vectors, all_steering_vectors)\n",
    "dot_products_resid = np.einsum('ij,ij->i', all_resid_vectors, all_steering_vectors)"
   ]
  },
  {
   "cell_type": "code",
   "execution_count": 12,
   "id": "ffbbddaa",
   "metadata": {},
   "outputs": [
    {
     "data": {
      "text/plain": [
       "array([0.10420628, 0.05083645, 0.08824812, 0.14025829, 0.11017924,\n",
       "       0.01504239, 0.08750446, 0.11274216, 0.08378014, 0.10738567,\n",
       "       0.12414297, 0.09391268])"
      ]
     },
     "execution_count": 12,
     "metadata": {},
     "output_type": "execute_result"
    }
   ],
   "source": [
    "dot_products_mlp "
   ]
  },
  {
   "cell_type": "code",
   "execution_count": 13,
   "id": "11c1cc40",
   "metadata": {},
   "outputs": [
    {
     "data": {
      "text/plain": [
       "array([ 0.01781004,  0.05212393, -0.00397307,  0.01475263,  0.08361365,\n",
       "        0.02437153,  0.03358879,  0.02898224,  0.00423687,  0.01757811,\n",
       "        0.06283319,  0.0066732 ])"
      ]
     },
     "execution_count": 13,
     "metadata": {},
     "output_type": "execute_result"
    }
   ],
   "source": [
    "dot_products_attn"
   ]
  },
  {
   "cell_type": "code",
   "execution_count": 14,
   "id": "0706ac6c",
   "metadata": {},
   "outputs": [
    {
     "data": {
      "text/plain": [
       "array([0.17869838, 0.09941412, 0.10847355, 0.180939  , 0.15526515,\n",
       "       0.00679891, 0.09239458, 0.15401034, 0.14686764, 0.1547267 ,\n",
       "       0.15670916, 0.11853292])"
      ]
     },
     "execution_count": 14,
     "metadata": {},
     "output_type": "execute_result"
    }
   ],
   "source": [
    "dot_products_resid"
   ]
  },
  {
   "cell_type": "code",
   "execution_count": 15,
   "id": "a2c5d24b",
   "metadata": {},
   "outputs": [
    {
     "data": {
      "text/plain": [
       "(np.float64(0.09318657049480035),\n",
       " np.float64(0.028549260221813418),\n",
       " np.float64(0.12940253730694742))"
      ]
     },
     "execution_count": 15,
     "metadata": {},
     "output_type": "execute_result"
    }
   ],
   "source": [
    "dot_products_mlp.mean(), dot_products_attn.mean(), dot_products_resid.mean()"
   ]
  },
  {
   "cell_type": "code",
   "execution_count": 16,
   "id": "f0159ec1",
   "metadata": {},
   "outputs": [
    {
     "data": {
      "text/plain": [
       "(np.float64(0.0319034931483563),\n",
       " np.float64(0.02476502549424573),\n",
       " np.float64(0.04646612934913045))"
      ]
     },
     "execution_count": 16,
     "metadata": {},
     "output_type": "execute_result"
    }
   ],
   "source": [
    "dot_products_mlp.std(), dot_products_attn.std(), dot_products_resid.std()"
   ]
  }
 ],
 "metadata": {
  "kernelspec": {
   "display_name": "meshuggah",
   "language": "python",
   "name": "python3"
  },
  "language_info": {
   "codemirror_mode": {
    "name": "ipython",
    "version": 3
   },
   "file_extension": ".py",
   "mimetype": "text/x-python",
   "name": "python",
   "nbconvert_exporter": "python",
   "pygments_lexer": "ipython3",
   "version": "3.11.13"
  }
 },
 "nbformat": 4,
 "nbformat_minor": 5
}
